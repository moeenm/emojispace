{
  "cells": [
    {
      "cell_type": "markdown",
      "id": "polyphonic-albert",
      "metadata": {
        "id": "polyphonic-albert"
      },
      "source": [
        "## EmojiSpace: Numerical representation of emojis in word-embedding spaces"
      ]
    },
    {
      "cell_type": "markdown",
      "id": "medical-acoustic",
      "metadata": {
        "id": "medical-acoustic"
      },
      "source": [
        " Moeen Mostafavi, Mahsa Pahlavikhah, Fatemeh Nikseresht, Seyed Ahmad Mansouri     \n",
        " \n",
        "If you use this embedding please cite is as follow, \n",
        "\n",
        "Mostafavi, Moeen, Mahsa Pahlavikhah Varnosfaderani, Fateme Nikseresht, and Seyed Ahmad Mansouri. \"emojiSpace: Spatial Representation of Emojis.\" arXiv preprint arXiv:2209.09871 (2022)."
      ]
    },
    {
      "cell_type": "markdown",
      "id": "4e10a08f",
      "metadata": {
        "id": "4e10a08f"
      },
      "source": [
        "#### Install gensim, git, lfs, and pandas"
      ]
    },
    {
      "cell_type": "code",
      "execution_count": 12,
      "id": "ae6a98b6",
      "metadata": {
        "colab": {
          "base_uri": "https://localhost:8080/"
        },
        "id": "ae6a98b6",
        "outputId": "7ef19112-3c67-445b-92f8-e070865c9960"
      },
      "outputs": [
        {
          "output_type": "stream",
          "name": "stdout",
          "text": [
            "Looking in indexes: https://pypi.org/simple, https://us-python.pkg.dev/colab-wheels/public/simple/\n",
            "Requirement already satisfied: gensim==4.2.0 in /usr/local/lib/python3.7/dist-packages (4.2.0)\n",
            "Requirement already satisfied: scipy>=0.18.1 in /usr/local/lib/python3.7/dist-packages (from gensim==4.2.0) (1.7.3)\n",
            "Requirement already satisfied: numpy>=1.17.0 in /usr/local/lib/python3.7/dist-packages (from gensim==4.2.0) (1.21.6)\n",
            "Requirement already satisfied: smart-open>=1.8.1 in /usr/local/lib/python3.7/dist-packages (from gensim==4.2.0) (5.2.1)\n",
            "Looking in indexes: https://pypi.org/simple, https://us-python.pkg.dev/colab-wheels/public/simple/\n",
            "Requirement already satisfied: git-lfs in /usr/local/lib/python3.7/dist-packages (1.6)\n",
            "Updated git hooks.\n",
            "Git LFS initialized.\n"
          ]
        }
      ],
      "source": [
        "## Python version: 3.9\n",
        "!pip install  gensim==4.2.0\n",
        "#!pip install pandas=1.4.3\n",
        "#!pip install git=3.1.27\n",
        "!pip install git-lfs\n",
        "!git lfs install"
      ]
    },
    {
      "cell_type": "markdown",
      "id": "8b685de0",
      "metadata": {
        "id": "8b685de0"
      },
      "source": [
        "#### Download the embeddings from huggigface"
      ]
    },
    {
      "cell_type": "code",
      "execution_count": 13,
      "id": "70fb7ee7",
      "metadata": {
        "colab": {
          "base_uri": "https://localhost:8080/"
        },
        "id": "70fb7ee7",
        "outputId": "339fbd98-921e-401f-97c2-65eeb104dca3"
      },
      "outputs": [
        {
          "output_type": "stream",
          "name": "stdout",
          "text": [
            "Cloning into 'emojispace'...\n",
            "remote: Enumerating objects: 21, done.\u001b[K\n",
            "remote: Counting objects: 100% (21/21), done.\u001b[K\n",
            "remote: Compressing objects: 100% (20/20), done.\u001b[K\n",
            "remote: Total 21 (delta 6), reused 0 (delta 0), pack-reused 0\u001b[K\n",
            "Unpacking objects: 100% (21/21), done.\n",
            "tcmalloc: large alloc 1471086592 bytes == 0x56094d886000 @  0x7fb23c9712a4 0x56091139511f 0x56091137225b 0x560911326f33 0x5609112cb22a 0x5609112cb6e6 0x5609112e8451 0x5609112e89e9 0x5609112e8f13 0x56091138de12 0x56091122f162 0x560911215a65 0x560911216725 0x56091121572a 0x7fb23bcb8c87 0x56091121577a\n",
            "tcmalloc: large alloc 2206621696 bytes == 0x5609a5376000 @  0x7fb23c9712a4 0x56091139511f 0x56091137225b 0x560911326f33 0x5609112cb22a 0x5609112cb6e6 0x5609112e8451 0x5609112e89e9 0x5609112e8f13 0x56091138de12 0x56091122f162 0x560911215a65 0x560911216725 0x56091121572a 0x7fb23bcb8c87 0x56091121577a\n",
            "tcmalloc: large alloc 3309936640 bytes == 0x560a28bdc000 @  0x7fb23c9712a4 0x56091139511f 0x56091137225b 0x560911326f33 0x5609112cb22a 0x5609112cb6e6 0x5609112e8451 0x5609112e89e9 0x5609112e8f13 0x56091138de12 0x56091122f162 0x560911215a65 0x560911216725 0x56091121572a 0x7fb23bcb8c87 0x56091121577a\n",
            "tcmalloc: large alloc 2206621696 bytes == 0x5609a5376000 @  0x7fb23c9712a4 0x56091139511f 0x56091137225b 0x560911326f33 0x5609112cb22a 0x5609112cb6e6 0x5609112e8451 0x5609112e89e9 0x5609112e8f13 0x56091138de12 0x56091122f162 0x560911215a65 0x560911216725 0x56091121572a 0x7fb23bcb8c87 0x56091121577a\n",
            "tcmalloc: large alloc 3309936640 bytes == 0x560a28bdc000 @  0x7fb23c9712a4 0x56091139511f 0x56091137225b 0x560911326f33 0x5609112cb22a 0x5609112cb6e6 0x5609112e8451 0x5609112e89e9 0x5609112e8f13 0x56091138de12 0x56091122f162 0x560911215a65 0x560911216725 0x56091121572a 0x7fb23bcb8c87 0x56091121577a\n",
            "tcmalloc: large alloc 2206621696 bytes == 0x5609a5376000 @  0x7fb23c9712a4 0x56091139511f 0x56091137225b 0x560911326f33 0x5609112cb22a 0x5609112cb6e6 0x5609112e8451 0x5609112e89e9 0x5609112e8f13 0x56091138de12 0x56091122f162 0x560911215a65 0x560911216725 0x56091121572a 0x7fb23bcb8c87 0x56091121577a\n",
            "tcmalloc: large alloc 3309936640 bytes == 0x560a28bdc000 @  0x7fb23c9712a4 0x56091139511f 0x56091137225b 0x560911326f33 0x5609112cb22a 0x5609112cb6e6 0x5609112e8451 0x5609112e89e9 0x5609112e8f13 0x56091138de12 0x56091122f162 0x560911215a65 0x560911216725 0x56091121572a 0x7fb23bcb8c87 0x56091121577a\n",
            "tcmalloc: large alloc 4964900864 bytes == 0x560b202ba000 @  0x7fb23c9712a4 0x56091139511f 0x56091137225b 0x560911326f33 0x5609112cb22a 0x5609112cb6e6 0x5609112e8451 0x5609112e89e9 0x5609112e8f13 0x56091138de12 0x56091122f162 0x560911215a65 0x560911216725 0x56091121572a 0x7fb23bcb8c87 0x56091121577a\n",
            "tcmalloc: large alloc 7447347200 bytes == 0x56091313c000 @  0x7fb23c9712a4 0x56091139511f 0x56091137225b 0x560911326f33 0x5609112cb22a 0x5609112cb6e6 0x5609112e8451 0x5609112e89e9 0x5609112e8f13 0x56091138de12 0x56091122f162 0x560911215a65 0x560911216725 0x56091121572a 0x7fb23bcb8c87 0x56091121577a\n",
            "tcmalloc: large alloc 11171012608 bytes == 0x560b202ba000 @  0x7fb23c9712a4 0x56091139511f 0x56091137225b 0x560911326f33 0x5609112cb22a 0x5609112cb6e6 0x5609112e8451 0x5609112e89e9 0x5609112e8f13 0x56091138de12 0x56091122f162 0x560911215a65 0x560911216725 0x56091121572a 0x7fb23bcb8c87 0x56091121577a\n",
            "^C\n",
            "/content/emojispace/emojispace/emojispace\n"
          ]
        }
      ],
      "source": [
        "!git clone  https://huggingface.co/moeenm/emojispace\n",
        "%cd emojispace"
      ]
    },
    {
      "cell_type": "markdown",
      "id": "statistical-stereo",
      "metadata": {
        "id": "statistical-stereo"
      },
      "source": [
        "#### Import all required libraries"
      ]
    },
    {
      "cell_type": "code",
      "execution_count": 14,
      "id": "maritime-richardson",
      "metadata": {
        "id": "maritime-richardson"
      },
      "outputs": [],
      "source": [
        "import pandas as pd\n",
        "import gensim "
      ]
    },
    {
      "cell_type": "markdown",
      "id": "tamil-departure",
      "metadata": {
        "id": "tamil-departure"
      },
      "source": [
        "#### Loading tweet text from unzipped files"
      ]
    },
    {
      "cell_type": "code",
      "execution_count": 10,
      "id": "substantial-draft",
      "metadata": {
        "id": "substantial-draft"
      },
      "outputs": [],
      "source": [
        "# !pip install emoji=1.7.0\n",
        "# import emoji\n",
        "# emj_lst=emoji.UNICODE_EMOJI['en'].keys()"
      ]
    },
    {
      "cell_type": "markdown",
      "id": "2af960f8",
      "metadata": {
        "id": "2af960f8"
      },
      "source": [
        "You can use either of the following embeddings. \n",
        "- Both of them are trained on 4B tweets and theie embedding size is 300. \n",
        "- In the first embedding the hashtags and mentions are not excluded"
      ]
    },
    {
      "cell_type": "code",
      "execution_count": 15,
      "id": "68374e2d",
      "metadata": {
        "id": "68374e2d"
      },
      "outputs": [],
      "source": [
        "# model = gensim.models.Word2Vec.load(\"keep_hash_mention_size300_it0_mincnt50_window10_4B.model\")\n",
        "model = gensim.models.Word2Vec.load(\"test_size300_it10_mincnt50_window10_4B.model\")"
      ]
    },
    {
      "cell_type": "code",
      "execution_count": 16,
      "id": "opponent-steps",
      "metadata": {
        "colab": {
          "base_uri": "https://localhost:8080/"
        },
        "id": "opponent-steps",
        "outputId": "0848669c-eed9-40b3-f3ce-eb7b1a8a4ebe"
      },
      "outputs": [
        {
          "output_type": "execute_result",
          "data": {
            "text/plain": [
              "2011787"
            ]
          },
          "metadata": {},
          "execution_count": 16
        }
      ],
      "source": [
        "len(model.wv.key_to_index )"
      ]
    },
    {
      "cell_type": "markdown",
      "id": "coral-malaysia",
      "metadata": {
        "id": "coral-malaysia"
      },
      "source": [
        "## Visualizaztion"
      ]
    },
    {
      "cell_type": "code",
      "execution_count": 17,
      "id": "157d3024",
      "metadata": {
        "colab": {
          "base_uri": "https://localhost:8080/"
        },
        "id": "157d3024",
        "outputId": "d48a0afb-7f1f-47fb-a51f-42704b5c0741"
      },
      "outputs": [
        {
          "output_type": "execute_result",
          "data": {
            "text/plain": [
              "[('lacrosse', 0.7964470982551575),\n",
              " ('volleyball', 0.7842905521392822),\n",
              " ('basketball', 0.7833565473556519),\n",
              " ('hockey', 0.7600167989730835),\n",
              " ('football', 0.7535991668701172),\n",
              " ('softball', 0.7319202423095703),\n",
              " ('tennis', 0.6984690427780151),\n",
              " ('rugby', 0.6857836842536926),\n",
              " ('soccers', 0.6751985549926758),\n",
              " ('bball', 0.6728574633598328)]"
            ]
          },
          "metadata": {},
          "execution_count": 17
        }
      ],
      "source": [
        "model.wv.most_similar(positive='soccer',topn=10)  "
      ]
    },
    {
      "cell_type": "code",
      "execution_count": 18,
      "id": "surgical-circle",
      "metadata": {
        "colab": {
          "base_uri": "https://localhost:8080/",
          "height": 426
        },
        "id": "surgical-circle",
        "outputId": "906d020a-fe82-40eb-9de2-d2b2c96778a5"
      },
      "outputs": [
        {
          "output_type": "execute_result",
          "data": {
            "text/plain": [
              "   emoji T1    T2 T3   T4  T5    T6    T7   T8\n",
              "0      👹  👺     👿  🔪    🩸   🐀     👻     🦇    🃏\n",
              "1      😭  🤧     😩  😫    🥺   🥲   oml  omgg    😂\n",
              "2      💪  👊     🙌  ✊    🤙   🤟     🤘     👌    👍\n",
              "3      😍  🥰     🤩  😻    💕   💖     😘     🤗    🤤\n",
              "4      🤢  🤮  yuck  😷  eww  ew  eeww     😖  eew\n",
              "5      💒  🏩     🛐  🎎    ⛪   🎠     🎍     💝    🎐\n",
              "6      😡  😠     🤬  👿    😤   😑     🙄     😒    😾\n",
              "7      💑  💏     👫  💍    🔐   👭     👪     💞    💒\n",
              "8      🛵  🛴     🚐  🚲    🚙   🚗     🚘     🚌    🚛\n",
              "9      💗  💖     💕  💞    💓   💘     🥰     🤍    💝\n",
              "10     🔥  💥     😎  🤩    🚀   💯     💣     🔝    🤯\n",
              "11     🌺  🌷     🌸  🌼    🌻   🌹     💐     🌿    🍃"
            ],
            "text/html": [
              "\n",
              "  <div id=\"df-87ef6891-5c3d-4025-aeae-d441ec1b8265\">\n",
              "    <div class=\"colab-df-container\">\n",
              "      <div>\n",
              "<style scoped>\n",
              "    .dataframe tbody tr th:only-of-type {\n",
              "        vertical-align: middle;\n",
              "    }\n",
              "\n",
              "    .dataframe tbody tr th {\n",
              "        vertical-align: top;\n",
              "    }\n",
              "\n",
              "    .dataframe thead th {\n",
              "        text-align: right;\n",
              "    }\n",
              "</style>\n",
              "<table border=\"1\" class=\"dataframe\">\n",
              "  <thead>\n",
              "    <tr style=\"text-align: right;\">\n",
              "      <th></th>\n",
              "      <th>emoji</th>\n",
              "      <th>T1</th>\n",
              "      <th>T2</th>\n",
              "      <th>T3</th>\n",
              "      <th>T4</th>\n",
              "      <th>T5</th>\n",
              "      <th>T6</th>\n",
              "      <th>T7</th>\n",
              "      <th>T8</th>\n",
              "    </tr>\n",
              "  </thead>\n",
              "  <tbody>\n",
              "    <tr>\n",
              "      <th>0</th>\n",
              "      <td>👹</td>\n",
              "      <td>👺</td>\n",
              "      <td>👿</td>\n",
              "      <td>🔪</td>\n",
              "      <td>🩸</td>\n",
              "      <td>🐀</td>\n",
              "      <td>👻</td>\n",
              "      <td>🦇</td>\n",
              "      <td>🃏</td>\n",
              "    </tr>\n",
              "    <tr>\n",
              "      <th>1</th>\n",
              "      <td>😭</td>\n",
              "      <td>🤧</td>\n",
              "      <td>😩</td>\n",
              "      <td>😫</td>\n",
              "      <td>🥺</td>\n",
              "      <td>🥲</td>\n",
              "      <td>oml</td>\n",
              "      <td>omgg</td>\n",
              "      <td>😂</td>\n",
              "    </tr>\n",
              "    <tr>\n",
              "      <th>2</th>\n",
              "      <td>💪</td>\n",
              "      <td>👊</td>\n",
              "      <td>🙌</td>\n",
              "      <td>✊</td>\n",
              "      <td>🤙</td>\n",
              "      <td>🤟</td>\n",
              "      <td>🤘</td>\n",
              "      <td>👌</td>\n",
              "      <td>👍</td>\n",
              "    </tr>\n",
              "    <tr>\n",
              "      <th>3</th>\n",
              "      <td>😍</td>\n",
              "      <td>🥰</td>\n",
              "      <td>🤩</td>\n",
              "      <td>😻</td>\n",
              "      <td>💕</td>\n",
              "      <td>💖</td>\n",
              "      <td>😘</td>\n",
              "      <td>🤗</td>\n",
              "      <td>🤤</td>\n",
              "    </tr>\n",
              "    <tr>\n",
              "      <th>4</th>\n",
              "      <td>🤢</td>\n",
              "      <td>🤮</td>\n",
              "      <td>yuck</td>\n",
              "      <td>😷</td>\n",
              "      <td>eww</td>\n",
              "      <td>ew</td>\n",
              "      <td>eeww</td>\n",
              "      <td>😖</td>\n",
              "      <td>eew</td>\n",
              "    </tr>\n",
              "    <tr>\n",
              "      <th>5</th>\n",
              "      <td>💒</td>\n",
              "      <td>🏩</td>\n",
              "      <td>🛐</td>\n",
              "      <td>🎎</td>\n",
              "      <td>⛪</td>\n",
              "      <td>🎠</td>\n",
              "      <td>🎍</td>\n",
              "      <td>💝</td>\n",
              "      <td>🎐</td>\n",
              "    </tr>\n",
              "    <tr>\n",
              "      <th>6</th>\n",
              "      <td>😡</td>\n",
              "      <td>😠</td>\n",
              "      <td>🤬</td>\n",
              "      <td>👿</td>\n",
              "      <td>😤</td>\n",
              "      <td>😑</td>\n",
              "      <td>🙄</td>\n",
              "      <td>😒</td>\n",
              "      <td>😾</td>\n",
              "    </tr>\n",
              "    <tr>\n",
              "      <th>7</th>\n",
              "      <td>💑</td>\n",
              "      <td>💏</td>\n",
              "      <td>👫</td>\n",
              "      <td>💍</td>\n",
              "      <td>🔐</td>\n",
              "      <td>👭</td>\n",
              "      <td>👪</td>\n",
              "      <td>💞</td>\n",
              "      <td>💒</td>\n",
              "    </tr>\n",
              "    <tr>\n",
              "      <th>8</th>\n",
              "      <td>🛵</td>\n",
              "      <td>🛴</td>\n",
              "      <td>🚐</td>\n",
              "      <td>🚲</td>\n",
              "      <td>🚙</td>\n",
              "      <td>🚗</td>\n",
              "      <td>🚘</td>\n",
              "      <td>🚌</td>\n",
              "      <td>🚛</td>\n",
              "    </tr>\n",
              "    <tr>\n",
              "      <th>9</th>\n",
              "      <td>💗</td>\n",
              "      <td>💖</td>\n",
              "      <td>💕</td>\n",
              "      <td>💞</td>\n",
              "      <td>💓</td>\n",
              "      <td>💘</td>\n",
              "      <td>🥰</td>\n",
              "      <td>🤍</td>\n",
              "      <td>💝</td>\n",
              "    </tr>\n",
              "    <tr>\n",
              "      <th>10</th>\n",
              "      <td>🔥</td>\n",
              "      <td>💥</td>\n",
              "      <td>😎</td>\n",
              "      <td>🤩</td>\n",
              "      <td>🚀</td>\n",
              "      <td>💯</td>\n",
              "      <td>💣</td>\n",
              "      <td>🔝</td>\n",
              "      <td>🤯</td>\n",
              "    </tr>\n",
              "    <tr>\n",
              "      <th>11</th>\n",
              "      <td>🌺</td>\n",
              "      <td>🌷</td>\n",
              "      <td>🌸</td>\n",
              "      <td>🌼</td>\n",
              "      <td>🌻</td>\n",
              "      <td>🌹</td>\n",
              "      <td>💐</td>\n",
              "      <td>🌿</td>\n",
              "      <td>🍃</td>\n",
              "    </tr>\n",
              "  </tbody>\n",
              "</table>\n",
              "</div>\n",
              "      <button class=\"colab-df-convert\" onclick=\"convertToInteractive('df-87ef6891-5c3d-4025-aeae-d441ec1b8265')\"\n",
              "              title=\"Convert this dataframe to an interactive table.\"\n",
              "              style=\"display:none;\">\n",
              "        \n",
              "  <svg xmlns=\"http://www.w3.org/2000/svg\" height=\"24px\"viewBox=\"0 0 24 24\"\n",
              "       width=\"24px\">\n",
              "    <path d=\"M0 0h24v24H0V0z\" fill=\"none\"/>\n",
              "    <path d=\"M18.56 5.44l.94 2.06.94-2.06 2.06-.94-2.06-.94-.94-2.06-.94 2.06-2.06.94zm-11 1L8.5 8.5l.94-2.06 2.06-.94-2.06-.94L8.5 2.5l-.94 2.06-2.06.94zm10 10l.94 2.06.94-2.06 2.06-.94-2.06-.94-.94-2.06-.94 2.06-2.06.94z\"/><path d=\"M17.41 7.96l-1.37-1.37c-.4-.4-.92-.59-1.43-.59-.52 0-1.04.2-1.43.59L10.3 9.45l-7.72 7.72c-.78.78-.78 2.05 0 2.83L4 21.41c.39.39.9.59 1.41.59.51 0 1.02-.2 1.41-.59l7.78-7.78 2.81-2.81c.8-.78.8-2.07 0-2.86zM5.41 20L4 18.59l7.72-7.72 1.47 1.35L5.41 20z\"/>\n",
              "  </svg>\n",
              "      </button>\n",
              "      \n",
              "  <style>\n",
              "    .colab-df-container {\n",
              "      display:flex;\n",
              "      flex-wrap:wrap;\n",
              "      gap: 12px;\n",
              "    }\n",
              "\n",
              "    .colab-df-convert {\n",
              "      background-color: #E8F0FE;\n",
              "      border: none;\n",
              "      border-radius: 50%;\n",
              "      cursor: pointer;\n",
              "      display: none;\n",
              "      fill: #1967D2;\n",
              "      height: 32px;\n",
              "      padding: 0 0 0 0;\n",
              "      width: 32px;\n",
              "    }\n",
              "\n",
              "    .colab-df-convert:hover {\n",
              "      background-color: #E2EBFA;\n",
              "      box-shadow: 0px 1px 2px rgba(60, 64, 67, 0.3), 0px 1px 3px 1px rgba(60, 64, 67, 0.15);\n",
              "      fill: #174EA6;\n",
              "    }\n",
              "\n",
              "    [theme=dark] .colab-df-convert {\n",
              "      background-color: #3B4455;\n",
              "      fill: #D2E3FC;\n",
              "    }\n",
              "\n",
              "    [theme=dark] .colab-df-convert:hover {\n",
              "      background-color: #434B5C;\n",
              "      box-shadow: 0px 1px 3px 1px rgba(0, 0, 0, 0.15);\n",
              "      filter: drop-shadow(0px 1px 2px rgba(0, 0, 0, 0.3));\n",
              "      fill: #FFFFFF;\n",
              "    }\n",
              "  </style>\n",
              "\n",
              "      <script>\n",
              "        const buttonEl =\n",
              "          document.querySelector('#df-87ef6891-5c3d-4025-aeae-d441ec1b8265 button.colab-df-convert');\n",
              "        buttonEl.style.display =\n",
              "          google.colab.kernel.accessAllowed ? 'block' : 'none';\n",
              "\n",
              "        async function convertToInteractive(key) {\n",
              "          const element = document.querySelector('#df-87ef6891-5c3d-4025-aeae-d441ec1b8265');\n",
              "          const dataTable =\n",
              "            await google.colab.kernel.invokeFunction('convertToInteractive',\n",
              "                                                     [key], {});\n",
              "          if (!dataTable) return;\n",
              "\n",
              "          const docLinkHtml = 'Like what you see? Visit the ' +\n",
              "            '<a target=\"_blank\" href=https://colab.research.google.com/notebooks/data_table.ipynb>data table notebook</a>'\n",
              "            + ' to learn more about interactive tables.';\n",
              "          element.innerHTML = '';\n",
              "          dataTable['output_type'] = 'display_data';\n",
              "          await google.colab.output.renderOutput(dataTable, element);\n",
              "          const docLink = document.createElement('div');\n",
              "          docLink.innerHTML = docLinkHtml;\n",
              "          element.appendChild(docLink);\n",
              "        }\n",
              "      </script>\n",
              "    </div>\n",
              "  </div>\n",
              "  "
            ]
          },
          "metadata": {},
          "execution_count": 18
        }
      ],
      "source": [
        "list1=['👹','😭','💪','😍','🤢','💒','😡','💑','🛵','💗','🔥','🌺']\n",
        "list2=[model.wv.most_similar(positive=y,topn=3) [0] [0] for y in list1]\n",
        "list3=[model.wv.most_similar(positive=y,topn=3) [1] [0] for y in list1]\n",
        "list4=[model.wv.most_similar(positive=y,topn=4) [2] [0] for y in list1]\n",
        "list5=[model.wv.most_similar(positive=y,topn=5) [3] [0] for y in list1]\n",
        "list6=[model.wv.most_similar(positive=y,topn=6) [4] [0] for y in list1]\n",
        "list7=[model.wv.most_similar(positive=y,topn=7) [5] [0] for y in list1]\n",
        "list8=[model.wv.most_similar(positive=y,topn=8) [6] [0] for y in list1]\n",
        "list9=[model.wv.most_similar(positive=y,topn=9) [7] [0] for y in list1]\n",
        "\n",
        "rq= pd.DataFrame({'emoji': list1 ,\n",
        "                 'T1':list2,\n",
        "                 'T2':list3,\n",
        "                 'T3':list4,\n",
        "                 'T4':list5,\n",
        "                 'T5':list6,\n",
        "                 'T6':list7,\n",
        "                 'T7':list8,\n",
        "                 'T8':list9\n",
        "                 })\n",
        "rq"
      ]
    },
    {
      "cell_type": "code",
      "execution_count": 19,
      "id": "231c2131",
      "metadata": {
        "colab": {
          "base_uri": "https://localhost:8080/"
        },
        "id": "231c2131",
        "outputId": "8bc7f9ca-9835-4a92-dbe2-829acf40ebcf"
      },
      "outputs": [
        {
          "output_type": "execute_result",
          "data": {
            "text/plain": [
              "[('😊', 0.9008898138999939),\n",
              " ('😘', 0.8645409345626831),\n",
              " ('😇', 0.7806735038757324),\n",
              " ('🥰', 0.7704488039016724),\n",
              " ('😁', 0.7674084305763245),\n",
              " ('💕', 0.7609407305717468),\n",
              " ('😚', 0.7562152743339539),\n",
              " ('😃', 0.7507096529006958),\n",
              " ('😄', 0.7368767261505127),\n",
              " ('😙', 0.7358177304267883),\n",
              " ('😀', 0.7282106876373291),\n",
              " ('🙂', 0.713732898235321),\n",
              " ('😉', 0.7100146412849426),\n",
              " ('💖', 0.6878923773765564),\n",
              " ('💞', 0.6646143794059753),\n",
              " ('😌', 0.64122474193573),\n",
              " ('💗', 0.6309788823127747),\n",
              " ('💙', 0.6172051429748535),\n",
              " ('💐', 0.6127467155456543),\n",
              " ('😋', 0.6067638993263245),\n",
              " ('😍', 0.6019288897514343),\n",
              " ('💜', 0.5940524935722351),\n",
              " ('🤩', 0.5890401005744934),\n",
              " ('😜', 0.5844880938529968),\n",
              " ('🌹', 0.5842863917350769),\n",
              " ('😻', 0.581089198589325),\n",
              " ('💛', 0.5808753967285156),\n",
              " ('😝', 0.5761665105819702),\n",
              " ('💓', 0.5695737600326538),\n",
              " ('🥳', 0.5641990303993225),\n",
              " ('😎', 0.5588380098342896),\n",
              " ('💋', 0.5516598224639893),\n",
              " ('😛', 0.550554096698761),\n",
              " ('💚', 0.5490977168083191),\n",
              " ('🌞', 0.5442355275154114),\n",
              " ('🙈', 0.5417364835739136),\n",
              " ('🌷', 0.5382874011993408),\n",
              " ('🤓', 0.5297017693519592),\n",
              " ('😗', 0.5296729803085327),\n",
              " ('🐾', 0.5282477140426636),\n",
              " ('🌻', 0.5242730379104614),\n",
              " ('🌺', 0.5219908952713013),\n",
              " ('💝', 0.5109085440635681),\n",
              " ('🌸', 0.5084846615791321),\n",
              " ('👍', 0.5071729421615601),\n",
              " ('😽', 0.5060394406318665),\n",
              " ('🥂', 0.5051655769348145),\n",
              " ('✨', 0.5032675266265869),\n",
              " ('☺', 0.4971656799316406),\n",
              " ('🧡', 0.494779109954834)]"
            ]
          },
          "metadata": {},
          "execution_count": 19
        }
      ],
      "source": [
        "model.wv.most_similar(positive='🤗',topn=50)  "
      ]
    }
  ],
  "metadata": {
    "kernelspec": {
      "display_name": "Python 3 (ipykernel)",
      "language": "python",
      "name": "python3"
    },
    "language_info": {
      "codemirror_mode": {
        "name": "ipython",
        "version": 3
      },
      "file_extension": ".py",
      "mimetype": "text/x-python",
      "name": "python",
      "nbconvert_exporter": "python",
      "pygments_lexer": "ipython3",
      "version": "3.8.13"
    },
    "colab": {
      "provenance": [],
      "collapsed_sections": []
    }
  },
  "nbformat": 4,
  "nbformat_minor": 5
}